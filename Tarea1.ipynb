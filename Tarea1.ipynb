{
 "cells": [
  {
   "cell_type": "markdown",
   "id": "3d3b807c",
   "metadata": {},
   "source": [
    "# Análisis Exploratorio de Datos (EDA) - Accidentalidad en el Municipio de Envigado"
   ]
  },
  {
   "cell_type": "markdown",
   "id": "8123bfd0",
   "metadata": {},
   "source": [
    "# Importamos las librerías"
   ]
  },
  {
   "cell_type": "code",
   "execution_count": 5,
   "id": "6f369906",
   "metadata": {},
   "outputs": [],
   "source": [
    "import pandas as pd\n",
    "import numpy as np\n",
    "import matplotlib.pyplot as plt\n",
    "import seaborn as sns\n",
    "from datetime import datetime\n"
   ]
  },
  {
   "cell_type": "markdown",
   "id": "02af6c35",
   "metadata": {},
   "source": [
    "# Configuración para visualización"
   ]
  },
  {
   "cell_type": "code",
   "execution_count": null,
   "id": "ee972f2c",
   "metadata": {},
   "outputs": [],
   "source": [
    "%matplotlib inline\n",
    "plt.style.use('ggplot')\n",
    "sns.set(style=\"whitegrid\")\n",
    "plt.rcParams['figure.figsize'] = (12, 6)\n",
    "plt.rcParams['font.size'] = 12"
   ]
  },
  {
   "cell_type": "markdown",
   "id": "7e88ab95",
   "metadata": {},
   "source": [
    "# Carga y exploración inicial de datos"
   ]
  },
  {
   "cell_type": "code",
   "execution_count": 9,
   "id": "8e848bcc",
   "metadata": {},
   "outputs": [
    {
     "name": "stderr",
     "output_type": "stream",
     "text": [
      "C:\\Users\\Diego\\AppData\\Local\\Temp\\ipykernel_19064\\79020895.py:1: DtypeWarning: Columns (4,5,6,7,13,16) have mixed types. Specify dtype option on import or set low_memory=False.\n",
      "  df = pd.read_csv(\"Datasets/Accidentalidad_Municipio_de__Envigado_20250606.csv\")\n"
     ]
    }
   ],
   "source": [
    "df = pd.read_csv(\"Datasets/Accidentalidad_Municipio_de__Envigado_20250606.csv\")"
   ]
  },
  {
   "cell_type": "code",
   "execution_count": 10,
   "id": "dd44b763",
   "metadata": {},
   "outputs": [
    {
     "data": {
      "text/html": [
       "<div>\n",
       "<style scoped>\n",
       "    .dataframe tbody tr th:only-of-type {\n",
       "        vertical-align: middle;\n",
       "    }\n",
       "\n",
       "    .dataframe tbody tr th {\n",
       "        vertical-align: top;\n",
       "    }\n",
       "\n",
       "    .dataframe thead th {\n",
       "        text-align: right;\n",
       "    }\n",
       "</style>\n",
       "<table border=\"1\" class=\"dataframe\">\n",
       "  <thead>\n",
       "    <tr style=\"text-align: right;\">\n",
       "      <th></th>\n",
       "      <th>RADICADO</th>\n",
       "      <th>FECHA</th>\n",
       "      <th>HORA</th>\n",
       "      <th>DÍA DE LA SEMANA</th>\n",
       "      <th>CLASE DE VEHICULO</th>\n",
       "      <th>TIPO DE SERVICIO</th>\n",
       "      <th>TIPO DE VICTIMA</th>\n",
       "      <th>SEXO</th>\n",
       "      <th>ESTADO DE BEODEZ</th>\n",
       "      <th>RESULTADO DE BEODEZ</th>\n",
       "      <th>GRAVEDAD</th>\n",
       "      <th>CLASE DE ACCIDENTE</th>\n",
       "      <th>CAUSA</th>\n",
       "      <th>DIRECCIÓN</th>\n",
       "      <th>BARRIO</th>\n",
       "      <th>AREA</th>\n",
       "      <th>Coordenadas</th>\n",
       "    </tr>\n",
       "  </thead>\n",
       "  <tbody>\n",
       "    <tr>\n",
       "      <th>0</th>\n",
       "      <td>2134024</td>\n",
       "      <td>1/01/2014</td>\n",
       "      <td>10:30:00 p. m.</td>\n",
       "      <td>Miércoles</td>\n",
       "      <td>NaN</td>\n",
       "      <td>NaN</td>\n",
       "      <td>NaN</td>\n",
       "      <td>NaN</td>\n",
       "      <td>0</td>\n",
       "      <td>0</td>\n",
       "      <td>SOLO DAÑOS</td>\n",
       "      <td>CHOQUE</td>\n",
       "      <td>Otra-Conductor</td>\n",
       "      <td>NaN</td>\n",
       "      <td>LAS FLORES</td>\n",
       "      <td>URBANA</td>\n",
       "      <td>POINT (-75.57921612 6.172014741)</td>\n",
       "    </tr>\n",
       "    <tr>\n",
       "      <th>1</th>\n",
       "      <td>2134024</td>\n",
       "      <td>1/01/2014</td>\n",
       "      <td>10:30:00 p. m.</td>\n",
       "      <td>Miércoles</td>\n",
       "      <td>NaN</td>\n",
       "      <td>NaN</td>\n",
       "      <td>NaN</td>\n",
       "      <td>NaN</td>\n",
       "      <td>0</td>\n",
       "      <td>0</td>\n",
       "      <td>HERIDOS</td>\n",
       "      <td>CHOQUE</td>\n",
       "      <td>Otra-Conductor</td>\n",
       "      <td>NaN</td>\n",
       "      <td>LAS FLORES</td>\n",
       "      <td>URBANA</td>\n",
       "      <td>POINT (-75.57921612 6.172014741)</td>\n",
       "    </tr>\n",
       "    <tr>\n",
       "      <th>2</th>\n",
       "      <td>2134026</td>\n",
       "      <td>1/01/2014</td>\n",
       "      <td>11:30:00 p. m.</td>\n",
       "      <td>Miércoles</td>\n",
       "      <td>NaN</td>\n",
       "      <td>NaN</td>\n",
       "      <td>NaN</td>\n",
       "      <td>NaN</td>\n",
       "      <td>0</td>\n",
       "      <td>0</td>\n",
       "      <td>HERIDOS</td>\n",
       "      <td>CHOQUE</td>\n",
       "      <td>Desobedecer señales</td>\n",
       "      <td>NaN</td>\n",
       "      <td>LAS VEGAS</td>\n",
       "      <td>URBANA</td>\n",
       "      <td>POINT (-75.60353748 6.162050378)</td>\n",
       "    </tr>\n",
       "    <tr>\n",
       "      <th>3</th>\n",
       "      <td>2134026</td>\n",
       "      <td>1/01/2014</td>\n",
       "      <td>11:30:00 p. m.</td>\n",
       "      <td>Miércoles</td>\n",
       "      <td>NaN</td>\n",
       "      <td>NaN</td>\n",
       "      <td>NaN</td>\n",
       "      <td>NaN</td>\n",
       "      <td>0</td>\n",
       "      <td>0</td>\n",
       "      <td>HERIDOS</td>\n",
       "      <td>CHOQUE</td>\n",
       "      <td>Desobedecer señales</td>\n",
       "      <td>NaN</td>\n",
       "      <td>LAS VEGAS</td>\n",
       "      <td>URBANA</td>\n",
       "      <td>POINT (-75.60353748 6.162050378)</td>\n",
       "    </tr>\n",
       "    <tr>\n",
       "      <th>4</th>\n",
       "      <td>2134026</td>\n",
       "      <td>1/01/2014</td>\n",
       "      <td>11:30:00 p. m.</td>\n",
       "      <td>Miércoles</td>\n",
       "      <td>NaN</td>\n",
       "      <td>NaN</td>\n",
       "      <td>NaN</td>\n",
       "      <td>NaN</td>\n",
       "      <td>0</td>\n",
       "      <td>0</td>\n",
       "      <td>SOLO DAÑOS</td>\n",
       "      <td>CHOQUE</td>\n",
       "      <td>Desobedecer señales</td>\n",
       "      <td>NaN</td>\n",
       "      <td>LAS VEGAS</td>\n",
       "      <td>URBANA</td>\n",
       "      <td>POINT (-75.60353748 6.162050378)</td>\n",
       "    </tr>\n",
       "  </tbody>\n",
       "</table>\n",
       "</div>"
      ],
      "text/plain": [
       "   RADICADO      FECHA            HORA DÍA DE LA SEMANA CLASE DE VEHICULO  \\\n",
       "0   2134024  1/01/2014  10:30:00 p. m.        Miércoles               NaN   \n",
       "1   2134024  1/01/2014  10:30:00 p. m.        Miércoles               NaN   \n",
       "2   2134026  1/01/2014  11:30:00 p. m.        Miércoles               NaN   \n",
       "3   2134026  1/01/2014  11:30:00 p. m.        Miércoles               NaN   \n",
       "4   2134026  1/01/2014  11:30:00 p. m.        Miércoles               NaN   \n",
       "\n",
       "  TIPO DE SERVICIO TIPO DE VICTIMA SEXO  ESTADO DE BEODEZ  \\\n",
       "0              NaN             NaN  NaN                 0   \n",
       "1              NaN             NaN  NaN                 0   \n",
       "2              NaN             NaN  NaN                 0   \n",
       "3              NaN             NaN  NaN                 0   \n",
       "4              NaN             NaN  NaN                 0   \n",
       "\n",
       "   RESULTADO DE BEODEZ    GRAVEDAD CLASE DE ACCIDENTE                CAUSA  \\\n",
       "0                    0  SOLO DAÑOS             CHOQUE       Otra-Conductor   \n",
       "1                    0     HERIDOS             CHOQUE       Otra-Conductor   \n",
       "2                    0     HERIDOS             CHOQUE  Desobedecer señales   \n",
       "3                    0     HERIDOS             CHOQUE  Desobedecer señales   \n",
       "4                    0  SOLO DAÑOS             CHOQUE  Desobedecer señales   \n",
       "\n",
       "  DIRECCIÓN      BARRIO    AREA                       Coordenadas  \n",
       "0       NaN  LAS FLORES  URBANA  POINT (-75.57921612 6.172014741)  \n",
       "1       NaN  LAS FLORES  URBANA  POINT (-75.57921612 6.172014741)  \n",
       "2       NaN   LAS VEGAS  URBANA  POINT (-75.60353748 6.162050378)  \n",
       "3       NaN   LAS VEGAS  URBANA  POINT (-75.60353748 6.162050378)  \n",
       "4       NaN   LAS VEGAS  URBANA  POINT (-75.60353748 6.162050378)  "
      ]
     },
     "execution_count": 10,
     "metadata": {},
     "output_type": "execute_result"
    }
   ],
   "source": [
    "df.head()"
   ]
  },
  {
   "cell_type": "markdown",
   "id": "292b2d05",
   "metadata": {},
   "source": [
    "# Información general del dataset"
   ]
  },
  {
   "cell_type": "code",
   "execution_count": 12,
   "id": "f156b052",
   "metadata": {},
   "outputs": [
    {
     "name": "stdout",
     "output_type": "stream",
     "text": [
      "<class 'pandas.core.frame.DataFrame'>\n",
      "RangeIndex: 89826 entries, 0 to 89825\n",
      "Data columns (total 17 columns):\n",
      " #   Column               Non-Null Count  Dtype \n",
      "---  ------               --------------  ----- \n",
      " 0   RADICADO             89826 non-null  int64 \n",
      " 1   FECHA                89826 non-null  object\n",
      " 2   HORA                 89826 non-null  object\n",
      " 3   DÍA DE LA SEMANA     89826 non-null  object\n",
      " 4   CLASE DE VEHICULO    390 non-null    object\n",
      " 5   TIPO DE SERVICIO     390 non-null    object\n",
      " 6   TIPO DE VICTIMA      81 non-null     object\n",
      " 7   SEXO                 81 non-null     object\n",
      " 8   ESTADO DE BEODEZ     89826 non-null  int64 \n",
      " 9   RESULTADO DE BEODEZ  89826 non-null  int64 \n",
      " 10  GRAVEDAD             89826 non-null  object\n",
      " 11  CLASE DE ACCIDENTE   89826 non-null  object\n",
      " 12  CAUSA                89826 non-null  object\n",
      " 13  DIRECCIÓN            1459 non-null   object\n",
      " 14  BARRIO               89826 non-null  object\n",
      " 15  AREA                 89826 non-null  object\n",
      " 16  Coordenadas          22460 non-null  object\n",
      "dtypes: int64(3), object(14)\n",
      "memory usage: 11.7+ MB\n",
      "None\n",
      "            RADICADO                    FECHA                     HORA  \\\n",
      "count   8.982600e+04                    89826                    89826   \n",
      "unique           NaN                     5518                     1306   \n",
      "top              NaN  2020-02-01T00:00:00.000  1899-12-31T15:00:00.000   \n",
      "freq             NaN                       71                     1146   \n",
      "mean    2.157942e+06                      NaN                      NaN   \n",
      "std     7.477047e+04                      NaN                      NaN   \n",
      "min     2.100001e+06                      NaN                      NaN   \n",
      "25%     2.130164e+06                      NaN                      NaN   \n",
      "50%     2.160147e+06                      NaN                      NaN   \n",
      "75%     2.190225e+06                      NaN                      NaN   \n",
      "max     2.199344e+07                      NaN                      NaN   \n",
      "\n",
      "       DÍA DE LA SEMANA CLASE DE VEHICULO TIPO DE SERVICIO TIPO DE VICTIMA  \\\n",
      "count             89826               390              390              81   \n",
      "unique                7                10                3               5   \n",
      "top             Viernes         AUTOMOVIL       PARTICULAR    Motociclista   \n",
      "freq              14462               192              288              40   \n",
      "mean                NaN               NaN              NaN             NaN   \n",
      "std                 NaN               NaN              NaN             NaN   \n",
      "min                 NaN               NaN              NaN             NaN   \n",
      "25%                 NaN               NaN              NaN             NaN   \n",
      "50%                 NaN               NaN              NaN             NaN   \n",
      "75%                 NaN               NaN              NaN             NaN   \n",
      "max                 NaN               NaN              NaN             NaN   \n",
      "\n",
      "             SEXO  ESTADO DE BEODEZ  RESULTADO DE BEODEZ    GRAVEDAD  \\\n",
      "count          81      89826.000000         89826.000000       89826   \n",
      "unique          2               NaN                  NaN           3   \n",
      "top     MASCULINO               NaN                  NaN  SOLO DAÑOS   \n",
      "freq           57               NaN                  NaN       73295   \n",
      "mean          NaN          0.003440             0.006635         NaN   \n",
      "std           NaN          0.058551             0.124756         NaN   \n",
      "min           NaN          0.000000             0.000000         NaN   \n",
      "25%           NaN          0.000000             0.000000         NaN   \n",
      "50%           NaN          0.000000             0.000000         NaN   \n",
      "75%           NaN          0.000000             0.000000         NaN   \n",
      "max           NaN          1.000000             3.000000         NaN   \n",
      "\n",
      "       CLASE DE ACCIDENTE           CAUSA        DIRECCIÓN     BARRIO    AREA  \\\n",
      "count               89826           89826             1459      89826   89826   \n",
      "unique                  7             408              637         49       3   \n",
      "top                CHOQUE  Otra-Conductor  CR 50 CL 37 SUR  LAS VEGAS  URBANA   \n",
      "freq                83701           21217               17      25993   81782   \n",
      "mean                  NaN             NaN              NaN        NaN     NaN   \n",
      "std                   NaN             NaN              NaN        NaN     NaN   \n",
      "min                   NaN             NaN              NaN        NaN     NaN   \n",
      "25%                   NaN             NaN              NaN        NaN     NaN   \n",
      "50%                   NaN             NaN              NaN        NaN     NaN   \n",
      "75%                   NaN             NaN              NaN        NaN     NaN   \n",
      "max                   NaN             NaN              NaN        NaN     NaN   \n",
      "\n",
      "                           Coordenadas  \n",
      "count                            22460  \n",
      "unique                            1427  \n",
      "top     POINT (-75.58429621 6.1871109)  \n",
      "freq                              1806  \n",
      "mean                               NaN  \n",
      "std                                NaN  \n",
      "min                                NaN  \n",
      "25%                                NaN  \n",
      "50%                                NaN  \n",
      "75%                                NaN  \n",
      "max                                NaN  \n"
     ]
    }
   ],
   "source": [
    "print(df.info())\n",
    "print(df.describe(include='all'))"
   ]
  },
  {
   "cell_type": "markdown",
   "id": "01375911",
   "metadata": {},
   "source": [
    "# Verificamos la cantidad de valores únicos por columna"
   ]
  },
  {
   "cell_type": "code",
   "execution_count": 13,
   "id": "0d1c4fc3",
   "metadata": {},
   "outputs": [
    {
     "name": "stdout",
     "output_type": "stream",
     "text": [
      "Columna 'RADICADO' tiene 43759 valores unicos.\n",
      "Columna 'FECHA' tiene 5518 valores unicos.\n",
      "Columna 'HORA' tiene 1306 valores unicos.\n",
      "Columna 'DÍA DE LA SEMANA' tiene 7 valores unicos.\n",
      "Columna 'CLASE DE VEHICULO' tiene 10 valores unicos.\n",
      "Columna 'TIPO DE SERVICIO' tiene 3 valores unicos.\n",
      "Columna 'TIPO DE VICTIMA' tiene 5 valores unicos.\n",
      "Columna 'SEXO' tiene 2 valores unicos.\n",
      "Columna 'ESTADO DE BEODEZ' tiene 2 valores unicos.\n",
      "Columna 'RESULTADO DE BEODEZ' tiene 4 valores unicos.\n",
      "Columna 'GRAVEDAD' tiene 3 valores unicos.\n",
      "Columna 'CLASE DE ACCIDENTE' tiene 7 valores unicos.\n",
      "Columna 'CAUSA' tiene 408 valores unicos.\n",
      "Columna 'DIRECCIÓN' tiene 637 valores unicos.\n",
      "Columna 'BARRIO' tiene 49 valores unicos.\n",
      "Columna 'AREA' tiene 3 valores unicos.\n",
      "Columna 'Coordenadas' tiene 1427 valores unicos.\n"
     ]
    }
   ],
   "source": [
    "for col in df.columns:\n",
    "    unique_values = df[col].nunique()\n",
    "    print(f\"Columna '{col}' tiene {unique_values} valores unicos.\")"
   ]
  },
  {
   "cell_type": "markdown",
   "id": "25c4ee2f",
   "metadata": {},
   "source": [
    "# Verificamos la presencia de valores nulos"
   ]
  },
  {
   "cell_type": "code",
   "execution_count": 14,
   "id": "7cde08dd",
   "metadata": {},
   "outputs": [
    {
     "name": "stdout",
     "output_type": "stream",
     "text": [
      "Valores nulos por columna:\n",
      "CLASE DE VEHICULO    89436\n",
      "TIPO DE SERVICIO     89436\n",
      "TIPO DE VICTIMA      89745\n",
      "SEXO                 89745\n",
      "DIRECCIÓN            88367\n",
      "Coordenadas          67366\n",
      "dtype: int64\n"
     ]
    }
   ],
   "source": [
    "valores_nulos = df.isnull().sum()\n",
    "print(\"Valores nulos por columna:\")\n",
    "print(valores_nulos[valores_nulos > 0])"
   ]
  },
  {
   "cell_type": "markdown",
   "id": "547e7f64",
   "metadata": {},
   "source": [
    "# Verificamos duplicados"
   ]
  },
  {
   "cell_type": "code",
   "execution_count": 15,
   "id": "175d1f82",
   "metadata": {},
   "outputs": [
    {
     "name": "stdout",
     "output_type": "stream",
     "text": [
      "El dataset contiene 38022 filas duplicadas.\n"
     ]
    }
   ],
   "source": [
    "duplicados = df.duplicated().sum()\n",
    "print(f\"El dataset contiene {duplicados} filas duplicadas.\")"
   ]
  },
  {
   "cell_type": "markdown",
   "id": "67e8ab5d",
   "metadata": {},
   "source": [
    "# Convertimos la columna de fecha a formato datetime"
   ]
  },
  {
   "cell_type": "code",
   "execution_count": 17,
   "id": "a426a484",
   "metadata": {},
   "outputs": [],
   "source": [
    "df['FECHA'] = pd.to_datetime(df['FECHA'], format='mixed')"
   ]
  },
  {
   "cell_type": "markdown",
   "id": "40624deb",
   "metadata": {},
   "source": [
    "# Extraemos componentes adicionales de la fecha"
   ]
  },
  {
   "cell_type": "code",
   "execution_count": 18,
   "id": "f45535cd",
   "metadata": {},
   "outputs": [],
   "source": [
    "df['MES'] = df['FECHA'].dt.month\n",
    "df['AÑO'] = df['FECHA'].dt.year\n",
    "df['DIA_MES'] = df['FECHA'].dt.day"
   ]
  }
 ],
 "metadata": {
  "kernelspec": {
   "display_name": "Python 3",
   "language": "python",
   "name": "python3"
  },
  "language_info": {
   "codemirror_mode": {
    "name": "ipython",
    "version": 3
   },
   "file_extension": ".py",
   "mimetype": "text/x-python",
   "name": "python",
   "nbconvert_exporter": "python",
   "pygments_lexer": "ipython3",
   "version": "3.11.3"
  }
 },
 "nbformat": 4,
 "nbformat_minor": 5
}
